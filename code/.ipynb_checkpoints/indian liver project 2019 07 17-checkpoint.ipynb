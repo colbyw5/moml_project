{
 "cells": [
  {
   "cell_type": "code",
   "execution_count": 197,
   "metadata": {},
   "outputs": [],
   "source": [
    "import pandas as pd\n",
    "import numpy as np\n",
    "from matplotlib import pyplot as plt\n",
    "from scipy.optimize import check_grad"
   ]
  },
  {
   "cell_type": "code",
   "execution_count": 198,
   "metadata": {},
   "outputs": [],
   "source": [
    "liver_data = pd.read_csv('../data/indian_liver_patient.csv')\n",
    "\n",
    "liver_data.shape"
   ]
  },
  {
   "cell_type": "markdown",
   "metadata": {},
   "source": [
    "Convert gender variable to numeric code: 0 = female, 1 = male"
   ]
  },
  {
   "cell_type": "code",
   "execution_count": 200,
   "metadata": {},
   "outputs": [
    {
     "data": {
      "text/html": [
       "<div>\n",
       "<style scoped>\n",
       "    .dataframe tbody tr th:only-of-type {\n",
       "        vertical-align: middle;\n",
       "    }\n",
       "\n",
       "    .dataframe tbody tr th {\n",
       "        vertical-align: top;\n",
       "    }\n",
       "\n",
       "    .dataframe thead th {\n",
       "        text-align: right;\n",
       "    }\n",
       "</style>\n",
       "<table border=\"1\" class=\"dataframe\">\n",
       "  <thead>\n",
       "    <tr style=\"text-align: right;\">\n",
       "      <th></th>\n",
       "      <th>Age</th>\n",
       "      <th>Gender</th>\n",
       "      <th>Total_Bilirubin</th>\n",
       "      <th>Direct_Bilirubin</th>\n",
       "      <th>Alkaline_Phosphotase</th>\n",
       "      <th>Alamine_Aminotransferase</th>\n",
       "      <th>Aspartate_Aminotransferase</th>\n",
       "      <th>Total_Protiens</th>\n",
       "      <th>Albumin</th>\n",
       "      <th>Albumin_and_Globulin_Ratio</th>\n",
       "      <th>Dataset</th>\n",
       "    </tr>\n",
       "  </thead>\n",
       "  <tbody>\n",
       "    <tr>\n",
       "      <th>0</th>\n",
       "      <td>65.0</td>\n",
       "      <td>0.0</td>\n",
       "      <td>0.7</td>\n",
       "      <td>0.1</td>\n",
       "      <td>187.0</td>\n",
       "      <td>16.0</td>\n",
       "      <td>18.0</td>\n",
       "      <td>6.8</td>\n",
       "      <td>3.3</td>\n",
       "      <td>0.90</td>\n",
       "      <td>1.0</td>\n",
       "    </tr>\n",
       "    <tr>\n",
       "      <th>1</th>\n",
       "      <td>62.0</td>\n",
       "      <td>1.0</td>\n",
       "      <td>10.9</td>\n",
       "      <td>5.5</td>\n",
       "      <td>699.0</td>\n",
       "      <td>64.0</td>\n",
       "      <td>100.0</td>\n",
       "      <td>7.5</td>\n",
       "      <td>3.2</td>\n",
       "      <td>0.74</td>\n",
       "      <td>1.0</td>\n",
       "    </tr>\n",
       "    <tr>\n",
       "      <th>2</th>\n",
       "      <td>62.0</td>\n",
       "      <td>1.0</td>\n",
       "      <td>7.3</td>\n",
       "      <td>4.1</td>\n",
       "      <td>490.0</td>\n",
       "      <td>60.0</td>\n",
       "      <td>68.0</td>\n",
       "      <td>7.0</td>\n",
       "      <td>3.3</td>\n",
       "      <td>0.89</td>\n",
       "      <td>1.0</td>\n",
       "    </tr>\n",
       "    <tr>\n",
       "      <th>3</th>\n",
       "      <td>58.0</td>\n",
       "      <td>1.0</td>\n",
       "      <td>1.0</td>\n",
       "      <td>0.4</td>\n",
       "      <td>182.0</td>\n",
       "      <td>14.0</td>\n",
       "      <td>20.0</td>\n",
       "      <td>6.8</td>\n",
       "      <td>3.4</td>\n",
       "      <td>1.00</td>\n",
       "      <td>1.0</td>\n",
       "    </tr>\n",
       "    <tr>\n",
       "      <th>4</th>\n",
       "      <td>72.0</td>\n",
       "      <td>1.0</td>\n",
       "      <td>3.9</td>\n",
       "      <td>2.0</td>\n",
       "      <td>195.0</td>\n",
       "      <td>27.0</td>\n",
       "      <td>59.0</td>\n",
       "      <td>7.3</td>\n",
       "      <td>2.4</td>\n",
       "      <td>0.40</td>\n",
       "      <td>1.0</td>\n",
       "    </tr>\n",
       "  </tbody>\n",
       "</table>\n",
       "</div>"
      ],
      "text/plain": [
       "    Age  Gender  Total_Bilirubin  Direct_Bilirubin  Alkaline_Phosphotase  \\\n",
       "0  65.0     0.0              0.7               0.1                 187.0   \n",
       "1  62.0     1.0             10.9               5.5                 699.0   \n",
       "2  62.0     1.0              7.3               4.1                 490.0   \n",
       "3  58.0     1.0              1.0               0.4                 182.0   \n",
       "4  72.0     1.0              3.9               2.0                 195.0   \n",
       "\n",
       "   Alamine_Aminotransferase  Aspartate_Aminotransferase  Total_Protiens  \\\n",
       "0                      16.0                        18.0             6.8   \n",
       "1                      64.0                       100.0             7.5   \n",
       "2                      60.0                        68.0             7.0   \n",
       "3                      14.0                        20.0             6.8   \n",
       "4                      27.0                        59.0             7.3   \n",
       "\n",
       "   Albumin  Albumin_and_Globulin_Ratio  Dataset  \n",
       "0      3.3                        0.90      1.0  \n",
       "1      3.2                        0.74      1.0  \n",
       "2      3.3                        0.89      1.0  \n",
       "3      3.4                        1.00      1.0  \n",
       "4      2.4                        0.40      1.0  "
      ]
     },
     "execution_count": 200,
     "metadata": {},
     "output_type": "execute_result"
    }
   ],
   "source": [
    "# changing gender to 0, 1\n",
    "\n",
    "liver_data['Gender'] = liver_data['Gender'].astype('category')\n",
    "liver_data['Gender'] = liver_data['Gender'].cat.codes\n",
    "\n",
    "# converting all variables to floats\n",
    "\n",
    "liver_data = liver_data.astype('float')\n",
    "\n",
    "# removing observations with missing data\n",
    "\n",
    "liver_data = liver_data.dropna()\n",
    "\n",
    "liver_data.head()"
   ]
  },
  {
   "cell_type": "code",
   "execution_count": 201,
   "metadata": {},
   "outputs": [],
   "source": [
    "X = np.array(liver_data)[:, 0:10]\n",
    "\n",
    "y = np.array(liver_data)[:, 10].reshape(X.shape[0],1) - 1"
   ]
  },
  {
   "cell_type": "markdown",
   "metadata": {},
   "source": [
    "Implement optimization algorithm for binary classification of liver dieseae (1:+/ 0:-)"
   ]
  },
  {
   "cell_type": "code",
   "execution_count": 202,
   "metadata": {},
   "outputs": [],
   "source": [
    "def sigmoid(X, c):\n",
    "    return 1/(1+np.exp(-X.dot(c)))\n",
    "\n",
    "\n",
    "def logistic_obj(X,c,y):\n",
    "    \n",
    "    # c dx1 vector of weights\n",
    "    # X nxd matrix of data values\n",
    "    # y nx1 vector of labels\n",
    "    \n",
    "    obj_value = (-1/X.shape[0]) * np.sum(y*np.log(sigmoid(X, c)) + (1 - y)*np.log(1 - sigmoid(X, c)))\n",
    "    \n",
    "    return obj_value\n",
    "\n",
    "def logistic_grad(X,c,y):\n",
    "    \n",
    "    return (1/X.shape[0]) * np.dot(X.T, sigmoid(X, c) - y)\n",
    "\n",
    "def logistic_sgd(X,c,y):\n",
    "    \n",
    "    (n,d) = X.shape\n",
    "    \n",
    "    idx = np.random.randint(n)\n",
    "    \n",
    "    x = X[idx, :].reshape(1, d)\n",
    "    \n",
    "    z = np.dot(x.T, sigmoid(x, c) - y)\n",
    "\n",
    "    return z.T"
   ]
  },
  {
   "cell_type": "markdown",
   "metadata": {},
   "source": [
    "Check gradients"
   ]
  },
  {
   "cell_type": "code",
   "execution_count": 217,
   "metadata": {},
   "outputs": [
    {
     "data": {
      "text/plain": [
       "[array([[ 50. ],\n",
       "        [  1. ],\n",
       "        [  0.5],\n",
       "        [  5. ],\n",
       "        [400. ],\n",
       "        [ 25. ],\n",
       "        [  8. ],\n",
       "        [  7.2],\n",
       "        [  3.2],\n",
       "        [  0.8]]), array([[ 54. ],\n",
       "        [  1. ],\n",
       "        [  0.3],\n",
       "        [  5.5],\n",
       "        [200. ],\n",
       "        [ 23. ],\n",
       "        [  7. ],\n",
       "        [  7.4],\n",
       "        [  3.1],\n",
       "        [  0.5]])]"
      ]
     },
     "execution_count": 217,
     "metadata": {},
     "output_type": "execute_result"
    }
   ],
   "source": [
    "x0 = np.array([50., 1., 0.5, 5.,400.,25.,8.,7.2,3.2,0.8]).reshape(10,1)\n",
    "x1 = np.array([54., 1., 0.3, 5.5,200.,23.,7.,7.4,3.1,0.5]).reshape(10,1)\n",
    "\n",
    "\n",
    "#print(\"Gradient check:\",check_grad(logistic_obj(c = c, y = 1), logistic_grad(c = c, y= 1), [x0, x1]), \"\\n\\n\")\n",
    "\n",
    "[x0, x1]"
   ]
  },
  {
   "cell_type": "markdown",
   "metadata": {},
   "source": [
    "Initialize w, eta, iterations"
   ]
  },
  {
   "cell_type": "code",
   "execution_count": 246,
   "metadata": {},
   "outputs": [
    {
     "name": "stdout",
     "output_type": "stream",
     "text": [
      "[[-0.01173964]\n",
      " [ 0.0469963 ]\n",
      " [-0.01779599]\n",
      " [-0.42932142]\n",
      " [-0.00090457]\n",
      " [-0.00976272]\n",
      " [-0.00289527]\n",
      " [-0.09418426]\n",
      " [ 0.327658  ]\n",
      " [ 0.32277057]]\n"
     ]
    },
    {
     "data": {
      "image/png": "[encoded data removed]",
      "text/plain": [
       "<Figure size 432x288 with 1 Axes>"
      ]
     },
     "metadata": {
      "needs_background": "light"
     },
     "output_type": "display_data"
    }
   ],
   "source": [
    "eta = 0.0001\n",
    "\n",
    "iterations = 1000000\n",
    "\n",
    "c = np.zeros((10,1))\n",
    "\n",
    "# We will use the following vector to keep track of objective values\n",
    "objective_values = np.zeros((iterations,1))\n",
    "\n",
    "for i in range(iterations):\n",
    "    \n",
    "    c = c - eta * logistic_grad(X,c,y)\n",
    "    \n",
    "    # To do:  store current objective value\n",
    "    objective_values[i] = logistic_obj(X,c,y)\n",
    "    \n",
    "    \n",
    "\n",
    "# Plot the objective as a function of the iteration\n",
    "plt.plot(objective_values)\n",
    "plt.xlabel('Iteration')\n",
    "plt.ylabel('Objective value')\n",
    "\n",
    "print(c)"
   ]
  },
  {
   "cell_type": "code",
   "execution_count": 249,
   "metadata": {},
   "outputs": [
    {
     "data": {
      "text/plain": [
       "array([[387, 137],\n",
       "       [ 27,  28]])"
      ]
     },
     "execution_count": 249,
     "metadata": {},
     "output_type": "execute_result"
    }
   ],
   "source": [
    "from sklearn.metrics import confusion_matrix\n",
    "\n",
    "confusion_matrix(sigmoid(X, c) > 0.5, y == 1)\n"
   ]
  }
 ],
 "metadata": {
  "kernelspec": {
   "display_name": "Python 3",
   "language": "python",
   "name": "python3"
  },
  "language_info": {
   "codemirror_mode": {
    "name": "ipython",
    "version": 3
   },
   "file_extension": ".py",
   "mimetype": "text/x-python",
   "name": "python",
   "nbconvert_exporter": "python",
   "pygments_lexer": "ipython3",
   "version": "3.7.3"
  }
 },
 "nbformat": 4,
 "nbformat_minor": 2
}
