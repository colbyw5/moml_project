{
 "cells": [
  {
   "cell_type": "code",
   "execution_count": 2,
   "metadata": {},
   "outputs": [],
   "source": [
    "import pandas as pd\n",
    "import numpy as np\n",
    "from matplotlib import pyplot as plt"
   ]
  },
  {
   "cell_type": "code",
   "execution_count": 71,
   "metadata": {},
   "outputs": [],
   "source": [
    "liver_data = pd.read_csv('../data/indian_liver_patient.csv')"
   ]
  },
  {
   "cell_type": "code",
   "execution_count": 72,
   "metadata": {},
   "outputs": [
    {
     "data": {
      "text/plain": [
       "(583, 11)"
      ]
     },
     "execution_count": 72,
     "metadata": {},
     "output_type": "execute_result"
    }
   ],
   "source": [
    "liver_data.shape"
   ]
  },
  {
   "cell_type": "markdown",
   "metadata": {},
   "source": [
    "Convert gender variable to numeric code: 0 = female, 1 = male"
   ]
  },
  {
   "cell_type": "code",
   "execution_count": 79,
   "metadata": {},
   "outputs": [
    {
     "data": {
      "text/plain": [
       "(579, 11)"
      ]
     },
     "execution_count": 79,
     "metadata": {},
     "output_type": "execute_result"
    }
   ],
   "source": [
    "# changing gender to 0, 1\n",
    "\n",
    "liver_data['Gender'] = liver_data['Gender'].astype('category')\n",
    "liver_data['Gender'] = liver_data['Gender'].cat.codes\n",
    "\n",
    "# converting all variables to floats\n",
    "\n",
    "liver_data = liver_data.astype('float')\n",
    "\n",
    "# removing observations with missing data\n",
    "\n",
    "liver_data = liver_data.dropna()"
   ]
  },
  {
   "cell_type": "code",
   "execution_count": 80,
   "metadata": {},
   "outputs": [],
   "source": [
    "X = np.array(liver_data)[:, 0:10]\n",
    "\n",
    "y = np.array(liver_data)[:, 10].reshape(X.shape[0],1) - 1"
   ]
  },
  {
   "cell_type": "markdown",
   "metadata": {},
   "source": [
    "Implement optimization algorithm for binary classification of liver dieseae (1:+/ 0:-)"
   ]
  },
  {
   "cell_type": "code",
   "execution_count": 101,
   "metadata": {},
   "outputs": [],
   "source": [
    "def sigmoid(X, c):\n",
    "    return 1/(1+np.exp(X.dot(c)))\n",
    "\n",
    "\n",
    "def logistic_obj(c, X, y):\n",
    "    \n",
    "    # c dx1 vector of weights\n",
    "    # X nxd matrix of data values\n",
    "    # y nx1 vector of labels\n",
    "    \n",
    "    obj_value = (-1/X.shape[0]) * np.sum(y*np.log(sigmoid(X, c)) + (1 - y)*(1 - np.log(sigmoid(X, c))))\n",
    "    \n",
    "    \n",
    "    return obj_value\n",
    "\n",
    "def logistic_grad(c,X,y):\n",
    "    \n",
    "    return (1/X.shape[0]) * np.dot(X.T, sigmoid(X, c) - y)\n",
    "\n",
    "def logistic_sgd(c,X,y):\n",
    "    \n",
    "    (n,d) = X.shape\n",
    "    \n",
    "    idx = np.random.randint(n)\n",
    "    \n",
    "    x = X[idx, :].reshape(1, d)\n",
    "    \n",
    "    z = np.dot(x.T, sigmoid(x, c) - y)\n",
    "\n",
    "    return z.T"
   ]
  },
  {
   "cell_type": "markdown",
   "metadata": {},
   "source": [
    "Initialize w, eta, iterations"
   ]
  },
  {
   "cell_type": "code",
   "execution_count": 128,
   "metadata": {},
   "outputs": [
    {
     "name": "stdout",
     "output_type": "stream",
     "text": [
      "[[ -1649.51702073]\n",
      " [   -27.88912781]\n",
      " [  -149.43938169]\n",
      " [   -69.0512513 ]\n",
      " [-11422.37736615]\n",
      " [ -3573.77398964]\n",
      " [ -4939.34430052]\n",
      " [  -230.87432729]\n",
      " [  -109.32800345]\n",
      " [   -32.67833895]]\n"
     ]
    },
    {
     "data": {
      "image/png": "[encoded data removed]",
      "text/plain": [
       "<Figure size 432x288 with 1 Axes>"
      ]
     },
     "metadata": {
      "needs_background": "light"
     },
     "output_type": "display_data"
    }
   ],
   "source": [
    "eta = 0.01\n",
    "\n",
    "iterations = 5000\n",
    "\n",
    "c = np.zeros((10,1))\n",
    "\n",
    "# We will use the following vector to keep track of objective values\n",
    "objective_values = np.zeros((iterations,1))\n",
    "\n",
    "for i in range(iterations):\n",
    "    \n",
    "    c = c - eta * logistic_grad(c,X,y)\n",
    "    \n",
    "    # To do:  store current objective value\n",
    "    objective_values[i] = logistic_obj(c, X, y)\n",
    "\n",
    "# Plot the objective as a function of the iteration\n",
    "plt.plot(objective_values)\n",
    "plt.xlabel('Iteration')\n",
    "plt.ylabel('Objective value')\n",
    "\n",
    "print(c)"
   ]
  },
  {
   "cell_type": "code",
   "execution_count": null,
   "metadata": {},
   "outputs": [],
   "source": []
  }
 ],
 "metadata": {
  "kernelspec": {
   "display_name": "Python 3",
   "language": "python",
   "name": "python3"
  },
  "language_info": {
   "codemirror_mode": {
    "name": "ipython",
    "version": 3
   },
   "file_extension": ".py",
   "mimetype": "text/x-python",
   "name": "python",
   "nbconvert_exporter": "python",
   "pygments_lexer": "ipython3",
   "version": "3.7.3"
  }
 },
 "nbformat": 4,
 "nbformat_minor": 2
}
